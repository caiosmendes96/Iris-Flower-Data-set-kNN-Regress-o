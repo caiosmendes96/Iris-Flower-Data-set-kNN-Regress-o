{
 "cells": [
  {
   "cell_type": "markdown",
   "id": "f087eaf0",
   "metadata": {},
   "source": [
    "\n",
    "<div align=\"center\">\n",
    "    <h1>Atividade 2 - Caio Sousa Mendes e Felipe Baqueiro </h1>\n",
    "    <h3>ENGG67- T01 - Tópicos especiais em engenharia de computação </h3>\n",
    "    <h4>Prof.: Antônio C. L. Fernandes Júnior</h4>\n",
    "</div>"
   ]
  },
  {
   "cell_type": "markdown",
   "id": "cd07caf9",
   "metadata": {},
   "source": [
    "<b> Questão B </b>"
   ]
  },
  {
   "cell_type": "markdown",
   "id": "d585e9ba",
   "metadata": {},
   "source": [
    "Importação do banco de dados \"winequality\" para a regressão utilizando o algoritmo KNN euclidiano."
   ]
  },
  {
   "cell_type": "code",
   "execution_count": 29,
   "id": "9f7df8df",
   "metadata": {
    "scrolled": false
   },
   "outputs": [
    {
     "name": "stdout",
     "output_type": "stream",
     "text": [
      "Quantidade de objetos do banco de dados: 1599\n",
      "Quantidade de atributos do banco de dados: 12\n"
     ]
    },
    {
     "data": {
      "text/html": [
       "<div>\n",
       "<style scoped>\n",
       "    .dataframe tbody tr th:only-of-type {\n",
       "        vertical-align: middle;\n",
       "    }\n",
       "\n",
       "    .dataframe tbody tr th {\n",
       "        vertical-align: top;\n",
       "    }\n",
       "\n",
       "    .dataframe thead th {\n",
       "        text-align: right;\n",
       "    }\n",
       "</style>\n",
       "<table border=\"1\" class=\"dataframe\">\n",
       "  <thead>\n",
       "    <tr style=\"text-align: right;\">\n",
       "      <th></th>\n",
       "      <th>fixed acidity</th>\n",
       "      <th>volatile acidity</th>\n",
       "      <th>citric acid</th>\n",
       "      <th>residual sugar</th>\n",
       "      <th>chlorides</th>\n",
       "      <th>free sulfur dioxide</th>\n",
       "      <th>total sulfur dioxide</th>\n",
       "      <th>density</th>\n",
       "      <th>pH</th>\n",
       "      <th>sulphates</th>\n",
       "      <th>alcohol</th>\n",
       "      <th>quality</th>\n",
       "    </tr>\n",
       "  </thead>\n",
       "  <tbody>\n",
       "    <tr>\n",
       "      <th>269</th>\n",
       "      <td>11.5</td>\n",
       "      <td>0.180</td>\n",
       "      <td>0.51</td>\n",
       "      <td>4.0</td>\n",
       "      <td>0.104</td>\n",
       "      <td>4.0</td>\n",
       "      <td>23.0</td>\n",
       "      <td>0.99960</td>\n",
       "      <td>3.28</td>\n",
       "      <td>0.97</td>\n",
       "      <td>10.1</td>\n",
       "      <td>6</td>\n",
       "    </tr>\n",
       "    <tr>\n",
       "      <th>878</th>\n",
       "      <td>8.8</td>\n",
       "      <td>0.610</td>\n",
       "      <td>0.19</td>\n",
       "      <td>4.0</td>\n",
       "      <td>0.094</td>\n",
       "      <td>30.0</td>\n",
       "      <td>69.0</td>\n",
       "      <td>0.99787</td>\n",
       "      <td>3.22</td>\n",
       "      <td>0.50</td>\n",
       "      <td>10.0</td>\n",
       "      <td>6</td>\n",
       "    </tr>\n",
       "    <tr>\n",
       "      <th>63</th>\n",
       "      <td>7.0</td>\n",
       "      <td>0.735</td>\n",
       "      <td>0.05</td>\n",
       "      <td>2.0</td>\n",
       "      <td>0.081</td>\n",
       "      <td>13.0</td>\n",
       "      <td>54.0</td>\n",
       "      <td>0.99660</td>\n",
       "      <td>3.39</td>\n",
       "      <td>0.57</td>\n",
       "      <td>9.8</td>\n",
       "      <td>5</td>\n",
       "    </tr>\n",
       "    <tr>\n",
       "      <th>1317</th>\n",
       "      <td>9.9</td>\n",
       "      <td>0.440</td>\n",
       "      <td>0.46</td>\n",
       "      <td>2.2</td>\n",
       "      <td>0.091</td>\n",
       "      <td>10.0</td>\n",
       "      <td>41.0</td>\n",
       "      <td>0.99638</td>\n",
       "      <td>3.18</td>\n",
       "      <td>0.69</td>\n",
       "      <td>11.9</td>\n",
       "      <td>6</td>\n",
       "    </tr>\n",
       "    <tr>\n",
       "      <th>1034</th>\n",
       "      <td>8.9</td>\n",
       "      <td>0.745</td>\n",
       "      <td>0.18</td>\n",
       "      <td>2.5</td>\n",
       "      <td>0.077</td>\n",
       "      <td>15.0</td>\n",
       "      <td>48.0</td>\n",
       "      <td>0.99739</td>\n",
       "      <td>3.20</td>\n",
       "      <td>0.47</td>\n",
       "      <td>9.7</td>\n",
       "      <td>6</td>\n",
       "    </tr>\n",
       "  </tbody>\n",
       "</table>\n",
       "</div>"
      ],
      "text/plain": [
       "      fixed acidity  volatile acidity  citric acid  residual sugar  chlorides  \\\n",
       "269            11.5             0.180         0.51             4.0      0.104   \n",
       "878             8.8             0.610         0.19             4.0      0.094   \n",
       "63              7.0             0.735         0.05             2.0      0.081   \n",
       "1317            9.9             0.440         0.46             2.2      0.091   \n",
       "1034            8.9             0.745         0.18             2.5      0.077   \n",
       "\n",
       "      free sulfur dioxide  total sulfur dioxide  density    pH  sulphates  \\\n",
       "269                   4.0                  23.0  0.99960  3.28       0.97   \n",
       "878                  30.0                  69.0  0.99787  3.22       0.50   \n",
       "63                   13.0                  54.0  0.99660  3.39       0.57   \n",
       "1317                 10.0                  41.0  0.99638  3.18       0.69   \n",
       "1034                 15.0                  48.0  0.99739  3.20       0.47   \n",
       "\n",
       "      alcohol  quality  \n",
       "269      10.1        6  \n",
       "878      10.0        6  \n",
       "63        9.8        5  \n",
       "1317     11.9        6  \n",
       "1034      9.7        6  "
      ]
     },
     "execution_count": 29,
     "metadata": {},
     "output_type": "execute_result"
    }
   ],
   "source": [
    "import pandas as pd\n",
    "import numpy as np\n",
    "import matplotlib.pyplot as plt\n",
    "import seaborn as sns\n",
    "from sklearn import neighbors\n",
    "from sklearn.model_selection import train_test_split\n",
    "from statistics import mean\n",
    "from sklearn.metrics import accuracy_score \n",
    "from sklearn.metrics import explained_variance_score as evs\n",
    "from sklearn.metrics import mean_squared_error\n",
    "dadosVinho = pd.read_csv('./winequality-red.csv')\n",
    "\n",
    "print(\"Quantidade de objetos do banco de dados:\", dadosVinho.shape[0])\n",
    "print(\"Quantidade de atributos do banco de dados:\", dadosVinho.shape[1])\n",
    "\n",
    "dadosVinho.sample(5)"
   ]
  },
  {
   "cell_type": "markdown",
   "id": "ced5a5fe",
   "metadata": {},
   "source": [
    "<b> Atributo alvo: quality </b>\n",
    "\n",
    "Para o treinamento do KNN, utilizamos 80% objetos para o treinamento e 20% para teste. </br></br>\n",
    "O parâmetro \"random_state\" em train_test_split  é responsável por randomizar a seleção dos objetos escolhidos para o treinamento e teste. </br></br>\n",
    "Ao alterar o valor do \"random_state\", os objetos de treinamento e teste serão diferentes. Com isso, os valores de erro e o melhor K poderão mudar. </br></br>\n",
    "Para esse experimento, utilizamos o \"random_state\" igual a 0. </br>\n",
    "\n",
    "Vamos procurar o melhor valor de K (hiperparâmetro) com os objetos de treinamento ao encontrar o menor erro quadrático médio (EQM) variando o valor de vizinhos entre 1 e 20.  </br>"
   ]
  },
  {
   "cell_type": "code",
   "execution_count": 69,
   "id": "71cfccb6",
   "metadata": {},
   "outputs": [
    {
     "name": "stdout",
     "output_type": "stream",
     "text": [
      "Quantidade de objetos para o treino:  1279\n",
      "Quantidade de objetos para o teste:  320\n",
      "-------------------------------------\n",
      "Menor erro quadrático médio: 0.47311288088642656\n",
      "Valor de k: 19\n",
      "-------------------------------------\n"
     ]
    }
   ],
   "source": [
    "x = dadosVinho.drop(['quality'], axis = 1)\n",
    "y = dadosVinho['quality']\n",
    "\n",
    "train_X, test_X, train_y, test_y = train_test_split(x, y, test_size = 0.2, random_state = 0)\n",
    "\n",
    "print(\"Quantidade de objetos para o treino: \", len(train_X))\n",
    "print(\"Quantidade de objetos para o teste: \", len(test_X))\n",
    "print(\"-------------------------------------\")\n",
    "\n",
    "listaErros = []\n",
    "for n in range(1,20):\n",
    "    \n",
    "    knn = neighbors.KNeighborsRegressor(n_neighbors = n)\n",
    "    knn.fit(train_X, train_y)\n",
    "    predicaoTeste = knn.predict(test_X)\n",
    "    \n",
    "    listaErros.append(mean_squared_error(test_y, predicaoTeste))\n",
    "    \n",
    "\n",
    "melhorK = listaErros.index(min(listaErros)) + 1\n",
    "\n",
    "print(\"Menor erro quadrático médio:\", min(listaErros))\n",
    "print(\"Valor de k:\", melhorK)\n",
    "print(\"-------------------------------------\")\n"
   ]
  },
  {
   "cell_type": "markdown",
   "id": "9eb6f736",
   "metadata": {},
   "source": [
    "<b>Apresentação de um exemplo da regressão: </b>"
   ]
  },
  {
   "cell_type": "code",
   "execution_count": 66,
   "id": "3e910ea1",
   "metadata": {},
   "outputs": [
    {
     "name": "stdout",
     "output_type": "stream",
     "text": [
      "Regressão com o melhor valor de K:  19\n",
      "Qualidade do vinho (tabela):  6\n",
      "Qualidade do vinho (resultado regressão KNN):  6.052631578947368\n"
     ]
    },
    {
     "name": "stderr",
     "output_type": "stream",
     "text": [
      "C:\\Users\\caios\\anaconda3\\Lib\\site-packages\\sklearn\\base.py:464: UserWarning: X does not have valid feature names, but KNeighborsRegressor was fitted with feature names\n",
      "  warnings.warn(\n"
     ]
    }
   ],
   "source": [
    "melhorKnn = neighbors.KNeighborsRegressor(n_neighbors = melhorK)\n",
    "melhorKnn.fit(train_X, train_y)\n",
    "\n",
    "#Variáveis para uma predição utilizando regressão\n",
    "\n",
    "#Dados do objeto nº 269\n",
    "\n",
    "fixedAcidity = 11.5\n",
    "volatileAcidity = 0.180\n",
    "citricAcid = 0.51\n",
    "residualSugar = 4.0\n",
    "chlorides = 0.104\n",
    "freeSulfurDioxide = 4.0\n",
    "totalSulfurDioxide = 23.0\n",
    "density = 0.99960\n",
    "pH = 3.28\n",
    "sulphates = 0.97\n",
    "alcohol = 10.1\n",
    "\n",
    "predicao = melhorKnn.predict([[fixedAcidity,volatileAcidity,citricAcid,residualSugar,\n",
    "                                 chlorides,freeSulfurDioxide,totalSulfurDioxide,\n",
    "                                 density,pH,sulphates,alcohol],])\n",
    "print(\"Regressão com o melhor valor de K: \", melhorK)\n",
    "print(\"Qualidade do vinho (tabela): \", y[269])\n",
    "print(\"Qualidade do vinho (resultado regressão KNN): \", predicao[0])\n"
   ]
  },
  {
   "cell_type": "code",
   "execution_count": null,
   "id": "0ae8e062",
   "metadata": {},
   "outputs": [],
   "source": []
  },
  {
   "cell_type": "code",
   "execution_count": null,
   "id": "131aa438",
   "metadata": {},
   "outputs": [],
   "source": []
  },
  {
   "cell_type": "code",
   "execution_count": null,
   "id": "6823fe77",
   "metadata": {},
   "outputs": [],
   "source": []
  },
  {
   "cell_type": "code",
   "execution_count": null,
   "id": "c350e6d6",
   "metadata": {},
   "outputs": [],
   "source": []
  },
  {
   "cell_type": "code",
   "execution_count": null,
   "id": "fd834ba2",
   "metadata": {},
   "outputs": [],
   "source": []
  },
  {
   "cell_type": "code",
   "execution_count": null,
   "id": "71b3d673",
   "metadata": {},
   "outputs": [],
   "source": []
  },
  {
   "cell_type": "code",
   "execution_count": null,
   "id": "41cf4d8a",
   "metadata": {},
   "outputs": [],
   "source": []
  }
 ],
 "metadata": {
  "kernelspec": {
   "display_name": "Python 3 (ipykernel)",
   "language": "python",
   "name": "python3"
  },
  "language_info": {
   "codemirror_mode": {
    "name": "ipython",
    "version": 3
   },
   "file_extension": ".py",
   "mimetype": "text/x-python",
   "name": "python",
   "nbconvert_exporter": "python",
   "pygments_lexer": "ipython3",
   "version": "3.11.5"
  }
 },
 "nbformat": 4,
 "nbformat_minor": 5
}
